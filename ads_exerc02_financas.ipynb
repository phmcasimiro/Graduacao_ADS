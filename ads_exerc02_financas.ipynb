{
  "nbformat": 4,
  "nbformat_minor": 0,
  "metadata": {
    "colab": {
      "provenance": [],
      "authorship_tag": "ABX9TyP0K/xwOfY2+MkjxrGuYkP8",
      "include_colab_link": true
    },
    "kernelspec": {
      "name": "python3",
      "display_name": "Python 3"
    },
    "language_info": {
      "name": "python"
    }
  },
  "cells": [
    {
      "cell_type": "markdown",
      "metadata": {
        "id": "view-in-github",
        "colab_type": "text"
      },
      "source": [
        "<a href=\"https://colab.research.google.com/github/phmcasimiro/Graduacao_ADS/blob/main/ads_exerc02_financas.ipynb\" target=\"_parent\"><img src=\"https://colab.research.google.com/assets/colab-badge.svg\" alt=\"Open In Colab\"/></a>"
      ]
    },
    {
      "cell_type": "code",
      "execution_count": 1,
      "metadata": {
        "id": "yOk3RHM0r4gB"
      },
      "outputs": [],
      "source": [
        "import pandas as pd\n",
        "import matplotlib.pyplot as plt"
      ]
    },
    {
      "cell_type": "code",
      "source": [
        "# Criando uma classe Investimento\n",
        "class Investimento:\n",
        "  def __init__(self, nome, valor, taxa, periodo):\n",
        "    self.nome = nome\n",
        "    self.valor = valor\n",
        "    self.taxa = taxa\n",
        "    self.periodo = periodo"
      ],
      "metadata": {
        "id": "f71e-PR7sHDu"
      },
      "execution_count": 6,
      "outputs": []
    },
    {
      "cell_type": "code",
      "source": [
        "# Criando um dicionário de investimentos\n",
        "investimentos = {\n",
        "    'Investimento 1': Investimento('Tesouro Direto', 10000, 0.02, 5),\n",
        "    'Investimento 2': Investimento('Ações', 5000, 0.05, 3),\n",
        "    'Investimento 3': Investimento('Poupança', 8000, 0.01, 10),\n",
        "    'Investimento 4': Investimento('CDB', 15000, 0.03, 7),\n",
        "}"
      ],
      "metadata": {
        "id": "nOwR89sxsbdx"
      },
      "execution_count": 8,
      "outputs": []
    },
    {
      "cell_type": "code",
      "source": [
        "# Criando uma lista a partir de um dicionário de investimentos\n",
        "l_investimentos = [i.__dict__ for i in investimentos.values()]\n",
        "print(l_investimentos)"
      ],
      "metadata": {
        "colab": {
          "base_uri": "https://localhost:8080/"
        },
        "id": "npIrDeXttPtn",
        "outputId": "010af33b-6938-44e3-d687-97ca1c21cb5b"
      },
      "execution_count": 10,
      "outputs": [
        {
          "output_type": "stream",
          "name": "stdout",
          "text": [
            "[{'nome': 'Tesouro Direto', 'valor': 10000, 'taxa': 0.02, 'periodo': 5}, {'nome': 'Ações', 'valor': 5000, 'taxa': 0.05, 'periodo': 3}, {'nome': 'Poupança', 'valor': 8000, 'taxa': 0.01, 'periodo': 10}, {'nome': 'CDB', 'valor': 15000, 'taxa': 0.03, 'periodo': 7}]\n"
          ]
        }
      ]
    },
    {
      "cell_type": "code",
      "source": [
        "# Criando um DataFrame a partir da lista e dicionário\n",
        "# atenção ao uso das chaves/keys do dicionário \"investimentos\"\n",
        "df_investimentos = pd.DataFrame.from_records(l_investimentos, index=investimentos.keys())\n",
        "print(df_investimentos)"
      ],
      "metadata": {
        "colab": {
          "base_uri": "https://localhost:8080/"
        },
        "id": "2HnzcK3NvqsM",
        "outputId": "0e2d3903-4781-40f2-bf02-163c40dbb9eb"
      },
      "execution_count": 11,
      "outputs": [
        {
          "output_type": "stream",
          "name": "stdout",
          "text": [
            "                          nome  valor  taxa  periodo\n",
            "Investimento 1  Tesouro Direto  10000  0.02        5\n",
            "Investimento 2           Ações   5000  0.05        3\n",
            "Investimento 3        Poupança   8000  0.01       10\n",
            "Investimento 4             CDB  15000  0.03        7\n"
          ]
        }
      ]
    },
    {
      "cell_type": "code",
      "source": [
        "# Calculando o retorno dos investimentos\n",
        "df_investimentos['Retorno'] = df_investimentos.apply(lambda i: i.valor * (1 + i.taxa) ** i.periodo, axis=1)\n",
        "print(df_investimentos)"
      ],
      "metadata": {
        "colab": {
          "base_uri": "https://localhost:8080/"
        },
        "id": "09RO37kewBec",
        "outputId": "7f14c51f-37a5-4490-b547-5e171943a720"
      },
      "execution_count": 20,
      "outputs": [
        {
          "output_type": "stream",
          "name": "stdout",
          "text": [
            "                          nome  valor  taxa  periodo       retorno  \\\n",
            "Investimento 1  Tesouro Direto  10000  0.02        5  11040.808032   \n",
            "Investimento 2           Ações   5000  0.05        3   5788.125000   \n",
            "Investimento 3        Poupança   8000  0.01       10   8836.977003   \n",
            "Investimento 4             CDB  15000  0.03        7  18448.107981   \n",
            "\n",
            "                     Retorno  \n",
            "Investimento 1  11040.808032  \n",
            "Investimento 2   5788.125000  \n",
            "Investimento 3   8836.977003  \n",
            "Investimento 4  18448.107981  \n"
          ]
        }
      ]
    },
    {
      "cell_type": "code",
      "source": [
        "df_investimentos.plot(kind='bar', y='Retorno', legend='nome')\n",
        "plt.title('Retorno de Investimentos')\n",
        "plt.xlabel('Investimentos')\n",
        "plt.ylabel('Retorno em Reais R$')\n",
        "plt.show()"
      ],
      "metadata": {
        "colab": {
          "base_uri": "https://localhost:8080/",
          "height": 562
        },
        "id": "yEIZRs9CxAyJ",
        "outputId": "ab629667-a800-46d7-e86d-0b1eed4fa1bb"
      },
      "execution_count": 21,
      "outputs": [
        {
          "output_type": "display_data",
          "data": {
            "text/plain": [
              "<Figure size 640x480 with 1 Axes>"
            ],
            "image/png": "[encoded data removed]"
          },
          "metadata": {}
        }
      ]
    }
  ]
}