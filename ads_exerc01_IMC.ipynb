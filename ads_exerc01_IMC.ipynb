{
  "nbformat": 4,
  "nbformat_minor": 0,
  "metadata": {
    "colab": {
      "provenance": [],
      "authorship_tag": "ABX9TyOsRyMDSm2abkaw4aqvwf0X",
      "include_colab_link": true
    },
    "kernelspec": {
      "name": "python3",
      "display_name": "Python 3"
    },
    "language_info": {
      "name": "python"
    }
  },
  "cells": [
    {
      "cell_type": "markdown",
      "metadata": {
        "id": "view-in-github",
        "colab_type": "text"
      },
      "source": [
        "<a href=\"https://colab.research.google.com/github/phmcasimiro/Graduacao_ADS/blob/main/ads_exerc01_IMC.ipynb\" target=\"_parent\"><img src=\"https://colab.research.google.com/assets/colab-badge.svg\" alt=\"Open In Colab\"/></a>"
      ]
    },
    {
      "cell_type": "code",
      "execution_count": 1,
      "metadata": {
        "id": "GLiwM4g1ifI6"
      },
      "outputs": [],
      "source": [
        "import numpy as np\n",
        "import pandas as pd"
      ]
    },
    {
      "cell_type": "code",
      "source": [
        "# Classe Paciente\n",
        "class Paciente:\n",
        "  def __init__(self, nome, idade, sexo, peso, altura):\n",
        "    self.nome = nome\n",
        "    self.idade = idade # não se usa idade, mas data de nascimento para calcular a idade\n",
        "    self.sexo = sexo\n",
        "    self.peso = peso\n",
        "    self.altura = altura"
      ],
      "metadata": {
        "id": "CzOwwckzjECd"
      },
      "execution_count": 2,
      "outputs": []
    },
    {
      "cell_type": "code",
      "source": [
        "# Dicionário Pacientespacientes = {\n",
        "    'Paciente 1': Paciente('Maria', 25, 'F', 60, 1.60),\n",
        "    'Paciente 2': Paciente('João', 30, 'M', 70, 1.73),\n",
        "    'Paciente 3': Paciente('Pedro', 35, 'M', 87, 1.80),\n",
        "    'Paciente 4': Paciente('Thaisa', 30, 'F', 64, 1.75),\n",
        "}"
      ],
      "metadata": {
        "id": "9A34e4_RjGK_"
      },
      "execution_count": 3,
      "outputs": []
    },
    {
      "cell_type": "code",
      "source": [
        "#construindo uma lista de pacientes a partir de um dicionário de pacientes\n",
        "l_pacientes = [p.__dict__ for p in pacientes.values()]\n",
        "\n",
        "# Exibir a lista de pacientes\n",
        "print(l_pacientes)"
      ],
      "metadata": {
        "colab": {
          "base_uri": "https://localhost:8080/"
        },
        "id": "gCC0J-XAjFhG",
        "outputId": "d6f23928-79e2-443f-fa3c-fc23a0594bac"
      },
      "execution_count": 6,
      "outputs": [
        {
          "output_type": "stream",
          "name": "stdout",
          "text": [
            "[{'nome': 'Maria', 'idade': 25, 'sexo': 'F', 'peso': 60, 'altura': 1.6}, {'nome': 'João', 'idade': 30, 'sexo': 'M', 'peso': 70, 'altura': 1.73}, {'nome': 'Pedro', 'idade': 35, 'sexo': 'M', 'peso': 87, 'altura': 1.8}, {'nome': 'Thaisa', 'idade': 30, 'sexo': 'F', 'peso': 64, 'altura': 1.75}]\n"
          ]
        }
      ]
    },
    {
      "cell_type": "code",
      "source": [
        "# Construindo um Pandas DataFrame a partir da lista de pacientes\n",
        "# atenção a ausência das chaves/keys dos dicionários, presença apenas dos valores\n",
        "df_pacientes1 = pd.DataFrame(l_pacientes)\n",
        "\n",
        "# Construindo um Pandas DataFrame a partir da lista de pacientes com index\n",
        "# atenção a presenca das chaves/keys do dicionário além dos valores\n",
        "df_pacientes = pd.DataFrame.from_records(l_pacientes, index=pacientes.keys())\n",
        "\n",
        "# Exibindo o DataFrame de Pacientes\n",
        "print(df_pacientes1)\n",
        "print()\n",
        "print(df_pacientes)"
      ],
      "metadata": {
        "colab": {
          "base_uri": "https://localhost:8080/"
        },
        "id": "ABa68Dh9kyf1",
        "outputId": "83e5859b-526c-4b5b-9097-2c39726aefa2"
      },
      "execution_count": 12,
      "outputs": [
        {
          "output_type": "stream",
          "name": "stdout",
          "text": [
            "     nome  idade sexo  peso  altura\n",
            "0   Maria     25    F    60    1.60\n",
            "1    João     30    M    70    1.73\n",
            "2   Pedro     35    M    87    1.80\n",
            "3  Thaisa     30    F    64    1.75\n",
            "\n",
            "              nome  idade sexo  peso  altura\n",
            "Paciente 1   Maria     25    F    60    1.60\n",
            "Paciente 2    João     30    M    70    1.73\n",
            "Paciente 3   Pedro     35    M    87    1.80\n",
            "Paciente 4  Thaisa     30    F    64    1.75\n"
          ]
        }
      ]
    },
    {
      "cell_type": "code",
      "source": [
        "# Calculando IMC\n",
        "df_pacientes['IMC'] = df_pacientes.apply(lambda i: i.peso / i.altura **2, axis=1)\n",
        "\n",
        "media = np.mean(df_pacientes['IMC'])\n",
        "\n",
        "sobrepeso = df_pacientes[df_pacientes['IMC'] > 25]\n",
        "\n",
        "percentual = len(sobrepeso) / len(df_pacientes) * 100\n",
        "\n",
        "print('Estes são os pacientes:\\n\\n',df_pacientes)\n",
        "print()\n",
        "print('A média do IMC é: ',media)\n",
        "print()\n",
        "print('Paciente com sobrepeso: \\n\\n',sobrepeso)\n",
        "print()\n",
        "print(f'Percentual de pacientes com sobrepeso: {int(percentual)}%')"
      ],
      "metadata": {
        "colab": {
          "base_uri": "https://localhost:8080/"
        },
        "id": "XrhEhwlUm11t",
        "outputId": "e618ba4b-051f-42fa-9dc2-c9f04bd84785"
      },
      "execution_count": 22,
      "outputs": [
        {
          "output_type": "stream",
          "name": "stdout",
          "text": [
            "Estes são os pacientes:\n",
            "\n",
            "               nome  idade sexo  peso  altura        IMC\n",
            "Paciente 1   Maria     25    F    60    1.60  23.437500\n",
            "Paciente 2    João     30    M    70    1.73  23.388687\n",
            "Paciente 3   Pedro     35    M    87    1.80  26.851852\n",
            "Paciente 4  Thaisa     30    F    64    1.75  20.897959\n",
            "\n",
            "A média do IMC é:  23.643999398428257\n",
            "\n",
            "Paciente com sobrepeso: \n",
            "\n",
            "              nome  idade sexo  peso  altura        IMC\n",
            "Paciente 3  Pedro     35    M    87     1.8  26.851852\n",
            "\n",
            "Percentual de pacientes com sobrepeso: 25%\n"
          ]
        }
      ]
    }
  ]
}